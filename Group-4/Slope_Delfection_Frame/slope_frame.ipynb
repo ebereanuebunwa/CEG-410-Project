{
 "cells": [
  {
   "cell_type": "code",
   "execution_count": 22,
   "metadata": {},
   "outputs": [],
   "source": [
    "from sympy import *                 # use symbolic algebra\n",
    "init_printing(use_latex='mathjax')  # print nice math (use_latex arg is workaround for FormatterWarning messages)\n",
    "from IPython import display"
   ]
  },
  {
   "cell_type": "code",
   "execution_count": 23,
   "metadata": {},
   "outputs": [],
   "source": [
    "from sdutil2 import SD, FEF"
   ]
  },
  {
   "cell_type": "code",
   "execution_count": 24,
   "metadata": {},
   "outputs": [],
   "source": [
    "# Slope deflection equations:\n",
    "# theta_a,b,c,d - rotations of joints\n",
    "# Delta_ab - horizontal displacement of joint b (and c) relative to a (and d)\n",
    "var('EI theta_a theta_b theta_c theta_d theta_e Delta_ab')\n",
    "Mab,Mba,Vab,Vba = SD(4,2*EI,0,theta_b,0) + FEF.udl(4,10)\n",
    "Mbc,Mcb,Vbc,Vcb = SD(2,2*EI,theta_b,theta_c,0)\n",
    "Mbe,Meb,Vbe,Veb = SD(4,EI,theta_b,0,0) + FEF.p(4,20,2)"
   ]
  },
  {
   "cell_type": "code",
   "execution_count": 25,
   "metadata": {},
   "outputs": [
    {
     "name": "stdout",
     "output_type": "stream",
     "text": [
      "Help on function SD in module sdutil2:\n",
      "\n",
      "SD(L, EI, t0, t1, d01=0)\n",
      "    Return the end moments and shears of a segment as computed by the slope\n",
      "    deflection equations.\n",
      "       L = length,\n",
      "       EI = stiffness,\n",
      "       t0 = rotation at end 0 (left),\n",
      "       t1 = rotation at end 1,\n",
      "       d01 = relative lateral displacment end 0 to end 1.\n",
      "    SD sign convention: moments and rotation are +ive CW,\n",
      "    relative displacement d01 is +ive for CW rotation of chord.\n",
      "\n"
     ]
    }
   ],
   "source": [
    "help(SD)"
   ]
  },
  {
   "cell_type": "code",
   "execution_count": 26,
   "metadata": {},
   "outputs": [
    {
     "name": "stdout",
     "output_type": "stream",
     "text": [
      "Help on class FEF in module sdutil2:\n",
      "\n",
      "class FEF(builtins.object)\n",
      " |  Methods to calculate the fixed end forces, (moments and shears),\n",
      " |  due to loads of various types.  All methods here return an EF object,\n",
      " |  which contains the span length, the moments at either end, and the shears\n",
      " |  at either end.\n",
      " |\n",
      " |  Static methods defined here:\n",
      " |\n",
      " |  cm(L, M, a)\n",
      " |      Return the FEMs and shears due to a single concentrated moment of M\n",
      " |      a distance a from the left support.\n",
      " |\n",
      " |  lvl(L, w1, w2=None, a=None, b=None, c=None)\n",
      " |      Return the FEMs and shears due to a linearly varying distributed load over\n",
      " |      a portion of the span.  Usage:\n",
      " |\n",
      " |        FEF.lvl(L,w1,w2,a,b,c)\n",
      " |\n",
      " |      L = span, w1 = intensity at left, w2 = intensity at right, a = distance from\n",
      " |      left end to left edge of load, b = length of load, c = distance from right\n",
      " |      edge of load to right end of span.\n",
      " |\n",
      " |  p(L, P, a)\n",
      " |      Return FEMs and shears due to a single concentrated force, P, a distance, a,\n",
      " |      from the left end.  Span = L.\n",
      " |\n",
      " |  udl(L, w)\n",
      " |      Return FEMs and shears due to a full-span UDL.  Distributed load intensity = w.\n",
      " |      Span = L\n",
      " |\n",
      " |  ----------------------------------------------------------------------\n",
      " |  Data descriptors defined here:\n",
      " |\n",
      " |  __dict__\n",
      " |      dictionary for instance variables (if defined)\n",
      " |\n",
      " |  __weakref__\n",
      " |      list of weak references to the object (if defined)\n",
      "\n"
     ]
    }
   ],
   "source": [
    "help(FEF)"
   ]
  },
  {
   "cell_type": "code",
   "execution_count": 27,
   "metadata": {},
   "outputs": [
    {
     "data": {
      "text/latex": [
       "$\\displaystyle 2 EI \\theta_{b} + 13.3333333333333$"
      ],
      "text/plain": [
       "2⋅EI⋅θ_b + 13.3333333333333"
      ]
     },
     "execution_count": 27,
     "metadata": {},
     "output_type": "execute_result"
    }
   ],
   "source": [
    "Mba"
   ]
  },
  {
   "cell_type": "code",
   "execution_count": 28,
   "metadata": {},
   "outputs": [
    {
     "data": {
      "text/latex": [
       "$\\displaystyle \\left\\{ \\theta_{a} : 0.0, \\  \\theta_{b} : \\frac{5.55555555555556}{EI}, \\  \\theta_{c} : - \\frac{21.1111111111111}{EI}\\right\\}$"
      ],
      "text/plain": [
       "⎧              5.55555555555556       -21.1111111111111 ⎫\n",
       "⎨θₐ: 0.0, θ_b: ────────────────, θ_c: ──────────────────⎬\n",
       "⎩                     EI                      EI        ⎭"
      ]
     },
     "execution_count": 28,
     "metadata": {},
     "output_type": "execute_result"
    }
   ],
   "source": [
    "eqns = [ Mba+Mbc+Mbe , theta_a, theta_e, Mbc+20]\n",
    "soln = solve(eqns,[theta_a,theta_b,theta_c,theta_d,Delta_ab])\n",
    "soln"
   ]
  },
  {
   "cell_type": "code",
   "execution_count": 29,
   "metadata": {},
   "outputs": [
    {
     "data": {
      "text/plain": [
       "{'Mab': -7.778,\n",
       " 'Mba': 24.44,\n",
       " 'Mbc': -20.00,\n",
       " 'Mbe': -4.444,\n",
       " 'Meb': 12.78,\n",
       " ' Vab': 15.83,\n",
       " ' Vba': -24.17,\n",
       " ' Vbc': 46.67,\n",
       " ' Vcb': 46.67,\n",
       " ' Vbe': 7.917,\n",
       " ' Veb': -12.08}"
      ]
     },
     "execution_count": 29,
     "metadata": {},
     "output_type": "execute_result"
    }
   ],
   "source": [
    "{v:eval(v).subs(soln).n(4) for v in 'Mab,Mba,Mbc,Mbe,Meb, Vab, Vba, Vbc, Vcb, Vbe, Veb'.split(',')}"
   ]
  },
  {
   "cell_type": "code",
   "execution_count": 30,
   "metadata": {},
   "outputs": [
    {
     "data": {
      "text/latex": [
       "$\\displaystyle \\left[ 15.83, \\  62.92, \\  12.78, \\  -7.778\\right]$"
      ],
      "text/plain": [
       "[15.83, 62.92, 12.78, -7.778]"
      ]
     },
     "execution_count": 30,
     "metadata": {},
     "output_type": "execute_result"
    }
   ],
   "source": [
    "Ra= Vab \n",
    "Rb= -Vba + Vbc - Vbe\n",
    "Ma = Mab\n",
    "Me = Meb\n",
    "[v.subs(soln).n(4) for v in [Ra, Rb, Me, Ma]]"
   ]
  }
 ],
 "metadata": {
  "kernelspec": {
   "display_name": "Python 3",
   "language": "python",
   "name": "python3"
  },
  "language_info": {
   "codemirror_mode": {
    "name": "ipython",
    "version": 3
   },
   "file_extension": ".py",
   "mimetype": "text/x-python",
   "name": "python",
   "nbconvert_exporter": "python",
   "pygments_lexer": "ipython3",
   "version": "3.12.0"
  }
 },
 "nbformat": 4,
 "nbformat_minor": 2
}
