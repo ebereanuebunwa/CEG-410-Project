{
 "cells": [
  {
   "cell_type": "code",
   "execution_count": 25,
   "metadata": {},
   "outputs": [],
   "source": [
    "from sympy import *                 # use symbolic algebra\n",
    "init_printing(use_latex='mathjax')  # print nice math (use_latex arg is workaround for FormatterWarning messages)\n",
    "from IPython import display"
   ]
  },
  {
   "cell_type": "code",
   "execution_count": 26,
   "metadata": {},
   "outputs": [],
   "source": [
    "from sdutil2 import SD, FEF"
   ]
  },
  {
   "cell_type": "code",
   "execution_count": 27,
   "metadata": {},
   "outputs": [],
   "source": [
    "# Slope deflection equations:\n",
    "# theta_a,b,c,d - rotations of joints\n",
    "# Delta_ab - horizontal displacement of joint b (and c) relative to a (and d)\n",
    "var('EI theta_a theta_b theta_c theta_d Delta_ab')\n",
    "Mab,Mba,Vab,Vba = SD(4,EI,theta_a,theta_b,0) + FEF.udl(4,20)\n",
    "Mbc,Mcb,Vbc,Vcb = SD(6,2*EI,theta_b,theta_c, 0) + FEF.p(6,80,2) + FEF.p(6,80,4)\n",
    "Mcd,Mdc,Vcd,Vdc = SD(4,EI,theta_c,theta_d, 0) + FEF.udl(4,15)"
   ]
  },
  {
   "cell_type": "code",
   "execution_count": 4,
   "metadata": {},
   "outputs": [
    {
     "name": "stdout",
     "output_type": "stream",
     "text": [
      "Help on function SD in module sdutil2:\n",
      "\n",
      "SD(L, EI, t0, t1, d01=0)\n",
      "    Return the end moments and shears of a segment as computed by the slope\n",
      "    deflection equations.\n",
      "       L = length,\n",
      "       EI = stiffness,\n",
      "       t0 = rotation at end 0 (left),\n",
      "       t1 = rotation at end 1,\n",
      "       d01 = relative lateral displacment end 0 to end 1.\n",
      "    SD sign convention: moments and rotation are +ive CW,\n",
      "    relative displacement d01 is +ive for CW rotation of chord.\n",
      "\n"
     ]
    }
   ],
   "source": [
    "help(SD)"
   ]
  },
  {
   "cell_type": "code",
   "execution_count": 5,
   "metadata": {},
   "outputs": [
    {
     "name": "stdout",
     "output_type": "stream",
     "text": [
      "Help on class FEF in module sdutil2:\n",
      "\n",
      "class FEF(builtins.object)\n",
      " |  Methods to calculate the fixed end forces, (moments and shears),\n",
      " |  due to loads of various types.  All methods here return an EF object,\n",
      " |  which contains the span length, the moments at either end, and the shears\n",
      " |  at either end.\n",
      " |\n",
      " |  Static methods defined here:\n",
      " |\n",
      " |  cm(L, M, a)\n",
      " |      Return the FEMs and shears due to a single concentrated moment of M\n",
      " |      a distance a from the left support.\n",
      " |\n",
      " |  lvl(L, w1, w2=None, a=None, b=None, c=None)\n",
      " |      Return the FEMs and shears due to a linearly varying distributed load over\n",
      " |      a portion of the span.  Usage:\n",
      " |\n",
      " |        FEF.lvl(L,w1,w2,a,b,c)\n",
      " |\n",
      " |      L = span, w1 = intensity at left, w2 = intensity at right, a = distance from\n",
      " |      left end to left edge of load, b = length of load, c = distance from right\n",
      " |      edge of load to right end of span.\n",
      " |\n",
      " |  p(L, P, a)\n",
      " |      Return FEMs and shears due to a single concentrated force, P, a distance, a,\n",
      " |      from the left end.  Span = L.\n",
      " |\n",
      " |  udl(L, w)\n",
      " |      Return FEMs and shears due to a full-span UDL.  Distributed load intensity = w.\n",
      " |      Span = L\n",
      " |\n",
      " |  ----------------------------------------------------------------------\n",
      " |  Data descriptors defined here:\n",
      " |\n",
      " |  __dict__\n",
      " |      dictionary for instance variables (if defined)\n",
      " |\n",
      " |  __weakref__\n",
      " |      list of weak references to the object (if defined)\n",
      "\n"
     ]
    }
   ],
   "source": [
    "help(FEF)"
   ]
  },
  {
   "cell_type": "code",
   "execution_count": 28,
   "metadata": {},
   "outputs": [
    {
     "data": {
      "text/latex": [
       "$\\displaystyle \\frac{EI \\left(4 \\theta_{a} + 2 \\theta_{b}\\right)}{4} - 26.6666666666667$"
      ],
      "text/plain": [
       "EI⋅(4⋅θₐ + 2⋅θ_b)                   \n",
       "───────────────── - 26.6666666666667\n",
       "        4                           "
      ]
     },
     "execution_count": 28,
     "metadata": {},
     "output_type": "execute_result"
    }
   ],
   "source": [
    "Mab"
   ]
  },
  {
   "cell_type": "code",
   "execution_count": 29,
   "metadata": {},
   "outputs": [
    {
     "data": {
      "text/latex": [
       "$\\displaystyle \\left\\{ \\theta_{a} : 0.0, \\  \\theta_{b} : \\frac{48.8888888888889}{EI}, \\  \\theta_{c} : - \\frac{51.1111111111111}{EI}, \\  \\theta_{d} : 0.0\\right\\}$"
      ],
      "text/plain": [
       "⎧              48.8888888888889       -51.1111111111111           ⎫\n",
       "⎨θₐ: 0.0, θ_b: ────────────────, θ_c: ──────────────────, θ_d: 0.0⎬\n",
       "⎩                     EI                      EI                  ⎭"
      ]
     },
     "execution_count": 29,
     "metadata": {},
     "output_type": "execute_result"
    }
   ],
   "source": [
    "eqns = [ Mba+Mbc, Mcb+Mcd, theta_d, theta_a, Delta_ab, Delta_bc, Delta_cd]\n",
    "soln = solve(eqns,[theta_a,theta_b,theta_c,theta_d])\n",
    "soln"
   ]
  },
  {
   "cell_type": "code",
   "execution_count": 30,
   "metadata": {},
   "outputs": [
    {
     "data": {
      "text/plain": [
       "{'Mab': -2.222,\n",
       " 'Mba': 75.56,\n",
       " 'Vab': 21.67,\n",
       " 'Vba': -58.33,\n",
       " 'Vbc': 80.74,\n",
       " 'Vcb': -79.26,\n",
       " 'Vcd': 49.17,\n",
       " 'Vdc': -10.83,\n",
       " 'Mbc': -75.56,\n",
       " 'Mcb': 71.11,\n",
       " 'Mcd': -71.11,\n",
       " 'Mdc': -5.556}"
      ]
     },
     "execution_count": 30,
     "metadata": {},
     "output_type": "execute_result"
    }
   ],
   "source": [
    "{v:eval(v).subs(soln).n(4) for v in 'Mab,Mba,Vab,Vba,Vbc,Vcb,Vcd,Vdc,Mbc,Mcb,Mcd,Mdc'.split(',')}"
   ]
  },
  {
   "cell_type": "code",
   "execution_count": 31,
   "metadata": {},
   "outputs": [
    {
     "data": {
      "text/latex": [
       "$\\displaystyle \\left[ 21.67, \\  139.1, \\  128.4, \\  10.83, \\  -5.556, \\  -2.222\\right]$"
      ],
      "text/plain": [
       "[21.67, 139.1, 128.4, 10.83, -5.556, -2.222]"
      ]
     },
     "execution_count": 31,
     "metadata": {},
     "output_type": "execute_result"
    }
   ],
   "source": [
    "Ra= Vab \n",
    "Rb= -Vba + Vbc\n",
    "Rc= -Vcb + Vcd\n",
    "Rd= -Vdc\n",
    "Md = Mdc\n",
    "Ma = Mab\n",
    "[v.subs(soln).n(4) for v in [Ra, Rb, Rc, Rd, Md, Ma]]"
   ]
  },
  {
   "cell_type": "code",
   "execution_count": 32,
   "metadata": {},
   "outputs": [
    {
     "data": {
      "text/latex": [
       "$\\displaystyle 0$"
      ],
      "text/plain": [
       "0"
      ]
     },
     "execution_count": 32,
     "metadata": {},
     "output_type": "execute_result"
    }
   ],
   "source": [
    "# sum Vertical forces\n",
    "(Ra + Rb + Rc + Rd -300).subs(soln)"
   ]
  },
  {
   "cell_type": "code",
   "execution_count": 33,
   "metadata": {},
   "outputs": [
    {
     "data": {
      "text/latex": [
       "$\\displaystyle 5.684 \\cdot 10^{-14}$"
      ],
      "text/plain": [
       "5.684e-14"
      ]
     },
     "execution_count": 33,
     "metadata": {},
     "output_type": "execute_result"
    }
   ],
   "source": [
    "# sum of moments about A\n",
    "((Ma)+(20*4*2)+(-Rb*4)+(80*6)+(80*8)+(-Rc*10)+(15*4*12)+(-Rd*14)+(Md)).subs(soln).n(4)"
   ]
  }
 ],
 "metadata": {
  "kernelspec": {
   "display_name": "Python 3",
   "language": "python",
   "name": "python3"
  },
  "language_info": {
   "codemirror_mode": {
    "name": "ipython",
    "version": 3
   },
   "file_extension": ".py",
   "mimetype": "text/x-python",
   "name": "python",
   "nbconvert_exporter": "python",
   "pygments_lexer": "ipython3",
   "version": "3.12.0"
  }
 },
 "nbformat": 4,
 "nbformat_minor": 2
}
